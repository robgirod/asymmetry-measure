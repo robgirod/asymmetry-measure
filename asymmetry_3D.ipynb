{
 "cells": [
  {
   "cell_type": "code",
   "execution_count": 1,
   "metadata": {},
   "outputs": [],
   "source": [
    "import numpy as np\n",
    "import napari\n",
    "from skimage.measure import regionprops\n",
    "import concurrent.futures\n",
    "\n",
    "from src import asymmetry_3D\n",
    "from src import prepare_center_pca\n",
    "from src.asymmetry_3D import *\n",
    "from src.utils import *\n",
    "from src.prepare_center_pca_3D import *\n",
    "\n",
    "%load_ext autoreload\n",
    "%autoreload 2\n",
    "V = napari.Viewer(ndisplay = 3)"
   ]
  },
  {
   "cell_type": "markdown",
   "metadata": {},
   "source": [
    "1. Load data\n",
    "\n",
    "A note on python arrays: they start indexing at 0 i.e., the first element of an array is Array[0], unlike matlab where this would be Array(1)\\\n",
    "Volume images are arrays with 3 axes. In python the axes order is Array[z, y, x], see the schematic below\\\n",
    "\\\n",
    "Important! At the moment, this code assumes that the images have been binarized previously. All background pixels are 0.\n",
    "\n",
    "The computation takes a few minutes for volumes ~ 100 x 150 x 100 voxels, increase this at your own risk!\\\n",
    "*TO DO*\\\n",
    "automate BFGS bounds"
   ]
  },
  {
   "attachments": {
    "image.png": {
     "image/png": "[encoded data removed]"
    }
   },
   "cell_type": "markdown",
   "metadata": {},
   "source": [
    "![image.png](attachment:image.png)"
   ]
  },
  {
   "cell_type": "code",
   "execution_count": 2,
   "metadata": {},
   "outputs": [
    {
     "name": "stdout",
     "output_type": "stream",
     "text": [
      "volume size: (84, 62, 62)\n",
      "number of voxels: 322896\n",
      "number of surface voxels: 21184\n"
     ]
    }
   ],
   "source": [
    "filename = r\"test\\chiral_TwistedSC.tif\" # Data must be binarized but not necessarily aligned\n",
    "Q = read_data(filename) # Can read .tif(f), .mrc, .rec\n",
    "\n",
    "print(f'volume size: {Q.shape}')\n",
    "print(f'number of voxels: {Q.shape[0]*Q.shape[1]*Q.shape[2]}')\n",
    "print(f'number of surface voxels: {np.count_nonzero(get_edges(Q))}')"
   ]
  },
  {
   "cell_type": "markdown",
   "metadata": {},
   "source": [
    "Run the cell below if the data have not been aligned to center and major axis vertical yet. This calculation requires the long axis of the image to be in position 0"
   ]
  },
  {
   "cell_type": "code",
   "execution_count": 3,
   "metadata": {},
   "outputs": [],
   "source": [
    "Q = translate_center_of_mass(Q)\n",
    "Q = rotate_pca(Q)"
   ]
  },
  {
   "cell_type": "markdown",
   "metadata": {},
   "source": [
    "2. Perform an initial grid search. Watch out! Computation cost scales with ${N_{parameters}}^6$ and ~ ${N_{voxels}}^1$"
   ]
  },
  {
   "cell_type": "code",
   "execution_count": 4,
   "metadata": {},
   "outputs": [
    {
     "name": "stdout",
     "output_type": "stream",
     "text": [
      "Grid search in u: [-2  0  2]\n",
      "Grid search in v: [-2  0  2]\n",
      "Grid search in w: [-2  0  2]\n",
      "Grid search in a: [  0  36  72 108 144 180 216 252 288 324]\n",
      "Grid search in b: [-10  -5   0   5  10 170 175 180 185 190]\n",
      "Grid search in c: [0]\n",
      "The global minimum will be searched with DU over 2700 combinations\n",
      "Estimated computation time: 4 s\n"
     ]
    }
   ],
   "source": [
    "''' Parameters ''' \n",
    "n_shifts = 3 # for now, must be odd to include 0\n",
    "l_shifts = 2 # in pixels\n",
    "n_angles = 10 # 60 angles is quite good already, must be even for rod_like\n",
    "\n",
    "distance = 'DU' # 'IoU' (intersection over union), 'DU' (disjunctive union) or 'Hausdorff'\n",
    "rod_like = True # if True, will limit rotations to the major and 1 minor axes, with [-10°+10°] at +/- 180° for the minor\n",
    "\n",
    "''' Function '''\n",
    "if n_shifts == 0:\n",
    "    iter_u = [0]\n",
    "    iter_v = [0]\n",
    "    iter_w = [0]\n",
    "else:\n",
    "    lim = (n_shifts // 2) * l_shifts\n",
    "    iter_u = np.linspace(-1 * lim, lim, n_shifts,  dtype = 'int') # number of X points in the grid search, centered\n",
    "    iter_v = np.linspace(-1 * lim, lim, n_shifts, dtype = 'int') # number of Y points in the grid search, centered\n",
    "    iter_w = np.linspace(-1 * lim, lim, n_shifts, dtype = 'int') # number of Z points in the grid search, centered\n",
    "\n",
    "if rod_like:\n",
    "    iter_a = np.linspace(0, 360, n_angles, endpoint = False, dtype = 'int') # rotations about Z axis\n",
    "    n_angles_minor_ud = n_angles // 2\n",
    "    if not n_angles_minor_ud % 2:\n",
    "        n_angles_minor_ud -= 1\n",
    "    iter_b = np.concatenate([ \n",
    "        np.linspace(-10, 10, n_angles_minor_ud, endpoint = True, dtype = 'int'),\n",
    "        np.linspace(170, 190, n_angles_minor_ud, endpoint = True, dtype = 'int')\n",
    "    ]) # rotations about Y axis\n",
    "    iter_c = [0] # rotations about X axis\n",
    "\n",
    "else:\n",
    "    iter_a = np.linspace(0, 360, n_angles, endpoint = False, dtype = 'int') # rotations about Z axis\n",
    "    iter_b = np.linspace(0, 360, n_angles, endpoint = False, dtype = 'int') # rotations about Y axis\n",
    "    iter_c = np.linspace(0, 360, n_angles, endpoint = False, dtype = 'int') # rotations about X axis\n",
    "\n",
    "\n",
    "# Need to decouple col, row and angle idx to have a finer search with angles\n",
    "\n",
    "print(f'Grid search in u: {iter_u}')\n",
    "print(f'Grid search in v: {iter_v}')\n",
    "print(f'Grid search in w: {iter_w}')\n",
    "\n",
    "print(f'Grid search in a: {iter_a}')\n",
    "print(f'Grid search in b: {iter_b}')\n",
    "print(f'Grid search in c: {iter_c}')\n",
    "\n",
    "iter_param = [(u, v, w, a, b, c) \n",
    "              for u in iter_u\n",
    "              for v in iter_v\n",
    "              for w in iter_w \n",
    "              for a in iter_a\n",
    "              for b in iter_b\n",
    "              for c in iter_c]\n",
    "\n",
    "Q_mirror = np.flip(Q, axis = 1)\n",
    "\n",
    "print(f'The global minimum will be searched with {distance} over {len(iter_param)} combinations')\n",
    "print(f'Estimated computation time: {eval_time_grid_search(Q, distance, iter_param)} s')"
   ]
  },
  {
   "cell_type": "code",
   "execution_count": 5,
   "metadata": {},
   "outputs": [
    {
     "name": "stdout",
     "output_type": "stream",
     "text": [
      "Searching the global minimum over 2700 combinations ...\n",
      "global minimum found for parameters: (-2, 0, 0, 72, 180, 0) at D=0.174\n",
      "5 lowest parameters:\n",
      " [[ -2   0   0  72 180   0]\n",
      " [  0   0   0  72 180   0]\n",
      " [  2   0   0 180   0   0]\n",
      " [  0   0  -2  72 185   0]\n",
      " [  2   0  -2 180   0   0]]\n"
     ]
    }
   ],
   "source": [
    "''' Function '''\n",
    "print(f'Searching the global minimum over {len(iter_param)} combinations ...')\n",
    "\n",
    "# Multithreaded\n",
    "to_CPU = [(Q, param, distance) for param in enumerate(iter_param)] # here param is [idx, (u, v, w, a, b, c)]\n",
    "\n",
    "with concurrent.futures.ThreadPoolExecutor() as executor:\n",
    "    futures = [executor.submit(to_multiprocessing_3D, var) for var in to_CPU]\n",
    "    H_global = [future.result() for future in concurrent.futures.as_completed(futures)]\n",
    "\n",
    "# Retrieve results H_global [idx | distance]\n",
    "H_global = np.array(H_global)\n",
    "min_param_idx = H_global[np.argmin(H_global[:,1]), 0] # Get the lowest distance\n",
    "min_param = iter_param[int(min_param_idx)]\n",
    "\n",
    "# Rearrange H_global for [idx | u | v | alpha | distance]\n",
    "H_global = H_global[np.argsort(H_global[:,0])] # Sort by idx\n",
    "for i in range(len(iter_param[0])):\n",
    "    H_global = np.insert(H_global, i+1, np.asarray(iter_param)[:,i], axis = 1) # Insert param\n",
    "\n",
    "# Print results\n",
    "print(f'global minimum found for parameters: {min_param} at D={np.round(H_global[:,-1].min(), 3)}')\n",
    "\n",
    "show_param = 5 # Number of param to print\n",
    "five_min = np.argsort(H_global[:,-1])[:show_param] \n",
    "print(f'{show_param} lowest parameters:\\n {np.array(iter_param)[five_min]}')"
   ]
  },
  {
   "cell_type": "markdown",
   "metadata": {},
   "source": [
    "3. Starting from the best results of the grid search, perform a local search using the BFGS method"
   ]
  },
  {
   "cell_type": "code",
   "execution_count": 15,
   "metadata": {},
   "outputs": [
    {
     "name": "stdout",
     "output_type": "stream",
     "text": [
      "Average change for a translation step of 1 px: 5.764597e-03\n",
      "Average change for a rotation step of 6°: 5.432457e-03\n"
     ]
    }
   ],
   "source": [
    "'''\n",
    "Test to find the best step size depending on the metric used\n",
    "Best step size gives a change of ~1e-3 for DU, ~1.5-2e-2 for IoU\n",
    "It is best to have change_translate ~ change_rotation for convergence\n",
    "Note: cannot have step size < 1 px\n",
    "'''\n",
    "step_rot = 6 # At the moment, need to be kept > 1\n",
    "step_translation = 1 # At the moment, need to be kept > 1 and integers only\n",
    "\n",
    "test_step_size(Q, 'DU', min_param, step_rot, step_translation)"
   ]
  },
  {
   "cell_type": "code",
   "execution_count": 16,
   "metadata": {},
   "outputs": [
    {
     "name": "stdout",
     "output_type": "stream",
     "text": [
      "minimizing the chirality distance from initialization: (-2, 0, 0, 72, 180, 0)\n",
      "minimization completed after 2 iterations\n",
      "Best parameters: [-2.0, 0.0, -0.0, 71.97, 179.96, -0.03] at 0.174\n",
      "  message: CONVERGENCE: REL_REDUCTION_OF_F_<=_FACTR*EPSMCH\n",
      "  success: True\n",
      "   status: 0\n",
      "      fun: 0.17432277241099778\n",
      "        x: [ 1.000e+00  1.000e+00  1.000e+00  1.000e+00  1.000e+00\n",
      "             1.000e+00]\n",
      "      nit: 2\n",
      "      jac: [-4.323e+02 -2.196e+01  1.251e+03  9.880e+01  5.658e+02\n",
      "             9.812e+02]\n",
      "     nfev: 147\n",
      "     njev: 21\n",
      " hess_inv: <6x6 LbfgsInvHessProduct with dtype=float64>\n"
     ]
    }
   ],
   "source": [
    "''' Parameters ''' \n",
    "distance = 'DU' # 'DU', 'IoU' or 'Hausdorff'\n",
    "\n",
    "''' Function '''\n",
    "results = minimize_distance_local_3D(Q, distance, min_param, step_rot, step_translation)\n",
    "best_param = descale_parameters(*results.x, step_rot, step_translation)\n",
    "\n",
    "if distance == 'Hausdorff':\n",
    "    d_max = regionprops(Q)[0].feret_diameter_max\n",
    "    print(f'Hausdorff distance: {results.fun / d_max}')"
   ]
  },
  {
   "cell_type": "code",
   "execution_count": 17,
   "metadata": {},
   "outputs": [
    {
     "data": {
      "image/png": "[encoded data removed]",
      "text/plain": [
       "<Figure size 1000x400 with 3 Axes>"
      ]
     },
     "metadata": {},
     "output_type": "display_data"
    }
   ],
   "source": [
    "''' Display results in 2D'''\n",
    "show_result_BFGS(Q, best_param)"
   ]
  },
  {
   "cell_type": "code",
   "execution_count": 78,
   "metadata": {},
   "outputs": [],
   "source": [
    "V = napari.Viewer(ndisplay = 3)"
   ]
  },
  {
   "cell_type": "code",
   "execution_count": 79,
   "metadata": {},
   "outputs": [],
   "source": [
    "''' Display results in 3D'''\n",
    "show_result_BFGS(Q, min_param, V)"
   ]
  },
  {
   "cell_type": "code",
   "execution_count": 80,
   "metadata": {},
   "outputs": [],
   "source": [
    "''' Save the results '''\n",
    "save_result(Q, min_param, filename)"
   ]
  }
 ],
 "metadata": {
  "kernelspec": {
   "display_name": "Register",
   "language": "python",
   "name": "python3"
  },
  "language_info": {
   "codemirror_mode": {
    "name": "ipython",
    "version": 3
   },
   "file_extension": ".py",
   "mimetype": "text/x-python",
   "name": "python",
   "nbconvert_exporter": "python",
   "pygments_lexer": "ipython3",
   "version": "3.11.7"
  }
 },
 "nbformat": 4,
 "nbformat_minor": 2
}
