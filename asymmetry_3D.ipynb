{
 "cells": [
  {
   "cell_type": "code",
   "execution_count": 1,
   "metadata": {},
   "outputs": [],
   "source": [
    "import numpy as np\n",
    "import napari\n",
    "from skimage.measure import regionprops\n",
    "import concurrent.futures\n",
    "\n",
    "from src import asymmetry_3D\n",
    "from src import prepare_center_pca\n",
    "from src.asymmetry_3D import *\n",
    "from src.utils import *\n",
    "from src.prepare_center_pca_3D import *\n",
    "\n",
    "%load_ext autoreload\n",
    "%autoreload 2\n",
    "V = napari.Viewer(ndisplay = 3)"
   ]
  },
  {
   "cell_type": "markdown",
   "metadata": {},
   "source": [
    "1. Load data\n",
    "\n",
    "A note on python arrays: they start indexing at 0 i.e., the first element of an array is Array[0], unlike matlab where this would be Array(1)\\\n",
    "Volume images are arrays with 3 axes. In python the axes order is Array[z, y, x], see the schematic below\\\n",
    "\\\n",
    "Important! At the moment, this code assumes that the images have been binarized previously. All background pixels are 0.\n",
    "\n",
    "The computation takes a few minutes for volumes ~ 100 x 150 x 100 voxels, increase this at your own risk!\\\n",
    "*TO DO*\\\n",
    "automate BFGS bounds"
   ]
  },
  {
   "attachments": {
    "image.png": {
     "image/png": "[encoded data removed]"
    }
   },
   "cell_type": "markdown",
   "metadata": {},
   "source": [
    "![image.png](attachment:image.png)"
   ]
  },
  {
   "cell_type": "code",
   "execution_count": null,
   "metadata": {},
   "outputs": [],
   "source": [
    "V.add_image(Q)"
   ]
  },
  {
   "cell_type": "code",
   "execution_count": 72,
   "metadata": {},
   "outputs": [
    {
     "name": "stdout",
     "output_type": "stream",
     "text": [
      "volume size: (237, 102, 119)\n",
      "number of voxels: 2876706\n",
      "number of surface voxels: 83599\n"
     ]
    }
   ],
   "source": [
    "filename = r\"D:\\Data\\2024_11_Sara_ChiralPRO\\PT_LCys3_seg.tif\" # Data must be binarized but not necessarily aligned\n",
    "Q = read_data(filename) # Can read .tif(f), .mrc, .rec\n",
    "\n",
    "print(f'volume size: {Q.shape}')\n",
    "print(f'number of voxels: {Q.shape[0]*Q.shape[1]*Q.shape[2]}')\n",
    "print(f'number of surface voxels: {np.count_nonzero(get_edges(Q))}')"
   ]
  },
  {
   "cell_type": "markdown",
   "metadata": {},
   "source": [
    "Run the cell below if the data have not been aligned to center and major axis vertical yet. This calculation requires the long axis of the image to be in position 0"
   ]
  },
  {
   "cell_type": "code",
   "execution_count": 59,
   "metadata": {},
   "outputs": [],
   "source": [
    "Q = translate_center_of_mass(Q)\n",
    "Q = rotate_pca(Q)"
   ]
  },
  {
   "cell_type": "markdown",
   "metadata": {},
   "source": [
    "2. Perform an initial grid search. Watch out! Computation cost scales with ${N_{parameters}}^6$ and ~ ${N_{voxels}}^1$"
   ]
  },
  {
   "cell_type": "code",
   "execution_count": 73,
   "metadata": {},
   "outputs": [
    {
     "name": "stdout",
     "output_type": "stream",
     "text": [
      "Grid search in u: [-2  0  2]\n",
      "Grid search in v: [-2  0  2]\n",
      "Grid search in w: [-2  0  2]\n",
      "Grid search in a: [  0  12  24  36  48  60  72  84  96 108 120 132 144 156 168 180 192 204\n",
      " 216 228 240 252 264 276 288 300 312 324 336 348]\n",
      "Grid search in b: [-10  -9  -8  -6  -5  -3  -2   0   1   2   4   5   7   8  10 170 171 172\n",
      " 174 175 177 178 180 181 182 184 185 187 188 190]\n",
      "Grid search in c: [0]\n",
      "The global minimum will be searched with SE over 24300 combinations\n",
      "Estimated computation time: 316 s\n"
     ]
    }
   ],
   "source": [
    "''' Parameters ''' \n",
    "n_shifts = 3 # for now, must be odd to include 0\n",
    "l_shifts = 2 # in pixels\n",
    "n_angles = 30 # 60 angles is quite good already, must be even for rod_like\n",
    "\n",
    "distance = 'SE' # 'IoU', 'SE' or 'Hausdorff'\n",
    "rod_like = True # if True, will limit rotations to the major and 1 minor axes, with [-10°+10°] at +/- 180° for the minor\n",
    "\n",
    "''' Function '''\n",
    "if n_shifts == 0:\n",
    "    iter_u = [0]\n",
    "    iter_v = [0]\n",
    "    iter_w = [0]\n",
    "else:\n",
    "    lim = (n_shifts // 2) * l_shifts\n",
    "    iter_u = np.linspace(-1 * lim, lim, n_shifts,  dtype = 'int') # number of X points in the grid search, centered\n",
    "    iter_v = np.linspace(-1 * lim, lim, n_shifts, dtype = 'int') # number of Y points in the grid search, centered\n",
    "    iter_w = np.linspace(-1 * lim, lim, n_shifts, dtype = 'int') # number of Z points in the grid search, centered\n",
    "\n",
    "if rod_like:\n",
    "    iter_a = np.linspace(0, 360, n_angles, endpoint = False, dtype = 'int') # rotations about Z axis\n",
    "    n_angles_minor_ud = n_angles // 2\n",
    "    if not n_angles_minor_ud % 2:\n",
    "        n_angles_minor_ud -= 1\n",
    "    iter_b = np.concatenate([ \n",
    "        np.linspace(-10, 10, n_angles_minor_ud, endpoint = True, dtype = 'int'),\n",
    "        np.linspace(170, 190, n_angles_minor_ud, endpoint = True, dtype = 'int')\n",
    "    ]) # rotations about Y axis\n",
    "    iter_c = [0] # rotations about X axis\n",
    "\n",
    "else:\n",
    "    iter_a = np.linspace(0, 360, n_angles, endpoint = False, dtype = 'int') # rotations about Z axis\n",
    "    iter_b = np.linspace(0, 360, n_angles, endpoint = False, dtype = 'int') # rotations about Y axis\n",
    "    iter_c = np.linspace(0, 360, n_angles, endpoint = False, dtype = 'int') # rotations about X axis\n",
    "\n",
    "\n",
    "# Need to decouple col, row and angle idx to have a finer search with angles\n",
    "\n",
    "print(f'Grid search in u: {iter_u}')\n",
    "print(f'Grid search in v: {iter_v}')\n",
    "print(f'Grid search in w: {iter_w}')\n",
    "\n",
    "print(f'Grid search in a: {iter_a}')\n",
    "print(f'Grid search in b: {iter_b}')\n",
    "print(f'Grid search in c: {iter_c}')\n",
    "\n",
    "iter_param = [(u, v, w, a, b, c) \n",
    "              for u in iter_u\n",
    "              for v in iter_v\n",
    "              for w in iter_w \n",
    "              for a in iter_a\n",
    "              for b in iter_b\n",
    "              for c in iter_c]\n",
    "\n",
    "Q_mirror = np.flip(Q, axis = 1)\n",
    "\n",
    "print(f'The global minimum will be searched with {distance} over {len(iter_param)} combinations')\n",
    "print(f'Estimated computation time: {eval_time_grid_search(Q, distance, iter_param)} s')"
   ]
  },
  {
   "cell_type": "code",
   "execution_count": 74,
   "metadata": {},
   "outputs": [
    {
     "name": "stdout",
     "output_type": "stream",
     "text": [
      "Searching the global minimum over 24300 combinations ...\n",
      "global minimum found for parameters: (0, -2, 0, 204, 181, 0) at D=0.285\n",
      "5 lowest parameters:\n",
      " [[  0  -2   0 204 181   0]\n",
      " [  0  -2  -2 204 181   0]\n",
      " [  0  -2   0 204 182   0]\n",
      " [  0  -2  -2 204 182   0]\n",
      " [  0  -2   0 204 180   0]]\n"
     ]
    }
   ],
   "source": [
    "''' Function '''\n",
    "print(f'Searching the global minimum over {len(iter_param)} combinations ...')\n",
    "\n",
    "# Multithreaded\n",
    "to_CPU = [(Q, param, distance) for param in enumerate(iter_param)] # here param is [idx, (u, v, w, a, b, c)]\n",
    "\n",
    "with concurrent.futures.ThreadPoolExecutor() as executor:\n",
    "    futures = [executor.submit(to_multiprocessing_3D, var) for var in to_CPU]\n",
    "    H_global = [future.result() for future in concurrent.futures.as_completed(futures)]\n",
    "\n",
    "# Retrieve results H_global [idx | distance]\n",
    "H_global = np.array(H_global)\n",
    "min_param_idx = H_global[np.argmin(H_global[:,1]), 0] # Get the lowest distance\n",
    "min_param = iter_param[int(min_param_idx)]\n",
    "\n",
    "# Rearrange H_global for [idx | u | v | alpha | distance]\n",
    "H_global = H_global[np.argsort(H_global[:,0])] # Sort by idx\n",
    "for i in range(len(iter_param[0])):\n",
    "    H_global = np.insert(H_global, i+1, np.asarray(iter_param)[:,i], axis = 1) # Insert param\n",
    "\n",
    "# Print results\n",
    "print(f'global minimum found for parameters: {min_param} at D={np.round(H_global[:,-1].min(), 3)}')\n",
    "\n",
    "show_param = 5 # Number of param to print\n",
    "five_min = np.argsort(H_global[:,-1])[:show_param] \n",
    "print(f'{show_param} lowest parameters:\\n {np.array(iter_param)[five_min]}')"
   ]
  },
  {
   "cell_type": "markdown",
   "metadata": {},
   "source": [
    "3. Starting from the best results of the grid search, perform a local search using the BFGS method"
   ]
  },
  {
   "cell_type": "code",
   "execution_count": 75,
   "metadata": {},
   "outputs": [
    {
     "name": "stdout",
     "output_type": "stream",
     "text": [
      "Average change for a translation step of 4 px: 2.317752e-02\n",
      "Average change for a rotation step of 1°: 1.762019e-03\n"
     ]
    }
   ],
   "source": [
    "'''\n",
    "Test to find the best step size depending on the metric used\n",
    "Best step size gives a change of ~1e-3 for SE, ~1.5-2e-2 for IoU\n",
    "It is best to have change_translate ~ change_rotation for convergence\n",
    "Note: cannot have step size < 1 px\n",
    "'''\n",
    "step_rot = 1 # At the moment, need to be kept > 1\n",
    "step_translation = 4 # At the moment, need to be kept > 1 and integers only\n",
    "\n",
    "test_step_size(Q, 'SE', min_param, step_rot, step_translation)"
   ]
  },
  {
   "cell_type": "code",
   "execution_count": 76,
   "metadata": {},
   "outputs": [
    {
     "name": "stdout",
     "output_type": "stream",
     "text": [
      "minimizing the chirality distance from initialization: (0, -2, 0, 204, 181, 0)\n",
      "minimization completed after 6 iterations\n",
      "Best parameters: [-1.66, -8.71, -1.03, 180.0, 179.79, -3.26] at 0.284\n",
      "  message: CONVERGENCE: REL_REDUCTION_OF_F_<=_FACTR*EPSMCH\n",
      "  success: True\n",
      "   status: 0\n",
      "      fun: 0.28399143149026274\n",
      "        x: [ 1.000e+00  1.000e+00  1.000e+00  1.002e+00  1.002e+00\n",
      "             1.000e+00]\n",
      "      nit: 6\n",
      "      jac: [ 4.749e+01  1.291e+02  7.337e+02 -7.582e+01 -3.525e+01\n",
      "             1.104e+02]\n",
      "     nfev: 343\n",
      "     njev: 49\n",
      " hess_inv: <6x6 LbfgsInvHessProduct with dtype=float64>\n"
     ]
    }
   ],
   "source": [
    "''' Parameters ''' \n",
    "distance = 'SE' # 'SE', 'IoU' or 'Hausdorff'\n",
    "\n",
    "''' Function '''\n",
    "results = minimize_distance_local_3D(Q, distance, min_param, step_rot, step_translation)\n",
    "best_param = descale_parameters(*results.x, step_rot, step_translation)\n",
    "\n",
    "if distance == 'Hausdorff':\n",
    "    d_max = regionprops(Q)[0].feret_diameter_max\n",
    "    print(f'Hausdorff distance: {results.fun / d_max}')"
   ]
  },
  {
   "cell_type": "code",
   "execution_count": 77,
   "metadata": {},
   "outputs": [
    {
     "data": {
      "image/png": "[encoded data removed]",
      "text/plain": [
       "<Figure size 1000x400 with 3 Axes>"
      ]
     },
     "metadata": {},
     "output_type": "display_data"
    }
   ],
   "source": [
    "''' Display results in 2D'''\n",
    "show_result_BFGS(Q, best_param)"
   ]
  },
  {
   "cell_type": "code",
   "execution_count": 78,
   "metadata": {},
   "outputs": [],
   "source": [
    "V = napari.Viewer(ndisplay = 3)"
   ]
  },
  {
   "cell_type": "code",
   "execution_count": 79,
   "metadata": {},
   "outputs": [],
   "source": [
    "''' Display results in 3D'''\n",
    "show_result_BFGS(Q, min_param, V)"
   ]
  },
  {
   "cell_type": "code",
   "execution_count": 80,
   "metadata": {},
   "outputs": [],
   "source": [
    "''' Save the results '''\n",
    "save_result(Q, min_param, filename)"
   ]
  }
 ],
 "metadata": {
  "kernelspec": {
   "display_name": "Register",
   "language": "python",
   "name": "python3"
  },
  "language_info": {
   "codemirror_mode": {
    "name": "ipython",
    "version": 3
   },
   "file_extension": ".py",
   "mimetype": "text/x-python",
   "name": "python",
   "nbconvert_exporter": "python",
   "pygments_lexer": "ipython3",
   "version": "3.11.7"
  }
 },
 "nbformat": 4,
 "nbformat_minor": 2
}
