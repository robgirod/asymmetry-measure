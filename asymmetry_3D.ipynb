{
 "cells": [
  {
   "cell_type": "code",
   "execution_count": 1,
   "metadata": {},
   "outputs": [],
   "source": [
    "import matplotlib.pyplot as plt\n",
    "import imageio.v2 as iio\n",
    "import numpy as np\n",
    "from scipy.optimize import minimize\n",
    "from scipy.spatial.distance import directed_hausdorff\n",
    "from sklearn import decomposition\n",
    "from skimage import registration,img_as_bool\n",
    "from skimage.transform import warp, downscale_local_mean, EuclideanTransform, rotate\n",
    "from skimage import img_as_float32\n",
    "from skimage.exposure import rescale_intensity\n",
    "from skimage.measure import regionprops, marching_cubes\n",
    "import mrcfile\n",
    "import math\n",
    "import napari\n",
    "from skimage.metrics import hausdorff_distance, hausdorff_pair, mean_squared_error\n",
    "from skimage.filters import threshold_otsu, sobel\n",
    "from skimage.draw import line_nd, ellipse, polygon\n",
    "import time\n",
    "from tqdm import tqdm\n",
    "from itertools import product\n",
    "import multiprocessing\n",
    "import concurrent.futures\n",
    "\n",
    "from src import asymmetry_3D\n",
    "from src import prepare_center_pca\n",
    "from src.asymmetry_3D import *\n",
    "from src.utils import *\n",
    "from src.prepare_center_pca_3D import *\n",
    "\n",
    "%load_ext autoreload\n",
    "%autoreload 2\n",
    "V = napari.Viewer(ndisplay = 3)"
   ]
  },
  {
   "cell_type": "markdown",
   "metadata": {},
   "source": [
    "1. Load data\n",
    "\n",
    "A note on python arrays: they start indexing at 0 i.e., the first element of an array is Array[0], unlike matlab where this would be Array(1)\\\n",
    "Volume images are arrays with 3 axes. In python the axes order is Array[z, y, x], see the schematic below\\\n",
    "\\\n",
    "Important! At the moment, this code assumes that: \n",
    "- the volumes have been aligned to center of mass and first axis of inertia up, i.e., along axis 0 of the numpy indexing.\n",
    "- the images have been binarized previously. All background pixels are 0.\n",
    "\n",
    "The computation takes a few minutes for volumes ~ 100 x 150 x 100 voxels, increase this at your own risk!\\\n",
    "*TO DO*\\\n",
    "Include the rotation and alignment in 3D, in python"
   ]
  },
  {
   "attachments": {
    "image.png": {
     "image/png": "[encoded data removed]"
    }
   },
   "cell_type": "markdown",
   "metadata": {},
   "source": [
    "![image.png](attachment:image.png)"
   ]
  },
  {
   "cell_type": "code",
   "execution_count": 2,
   "metadata": {},
   "outputs": [
    {
     "name": "stdout",
     "output_type": "stream",
     "text": [
      "volume size: (84, 62, 62)\n",
      "number of voxels: 322896\n",
      "number of surface voxels: 21184\n"
     ]
    }
   ],
   "source": [
    "filename = 'test/chiral_TwistedSC.tif' # Let's assume this has been rotated in matlab before\n",
    "Q = read_data(filename)\n",
    "\n",
    "print(f'volume size: {Q.shape}')\n",
    "print(f'number of voxels: {Q.shape[0]*Q.shape[1]*Q.shape[2]}')\n",
    "print(f'number of surface voxels: {np.count_nonzero(get_edges(Q))}')"
   ]
  },
  {
   "cell_type": "markdown",
   "metadata": {},
   "source": [
    "2. Perform an initial grid search. Watch out! Computation cost scales with ${N_{parameters}}^6$ and ~ ${N_{voxels}}^1$"
   ]
  },
  {
   "cell_type": "code",
   "execution_count": 21,
   "metadata": {},
   "outputs": [
    {
     "name": "stdout",
     "output_type": "stream",
     "text": [
      "Grid search in u: [-1  0  1]\n",
      "Grid search in v: [-1  0  1]\n",
      "Grid search in w: [-1  0  1]\n",
      "Grid search in a: [  0  60 120 180 240 300]\n",
      "Grid search in b: [  0  60 120 180 240 300]\n",
      "Grid search in c: [  0  60 120 180 240 300]\n",
      "The global minimum will be searched with SE over 5832 combinations\n",
      "Estimated computation time: 9 s\n"
     ]
    }
   ],
   "source": [
    "''' Parameters ''' \n",
    "n_shifts = 3 # for now, must be odd to include 0\n",
    "l_shifts = 1 # in pixels\n",
    "n_angles = 6 # 60 angles is quite good already, even is better with NR\n",
    "\n",
    "distance = 'SE' # 'IoU', 'SE' or 'Hausdorff'\n",
    "\n",
    "''' Function '''\n",
    "if n_shifts == 0:\n",
    "    iter_u = [0]\n",
    "    iter_v = [0]\n",
    "    iter_w = [0]\n",
    "else:\n",
    "    lim = (n_shifts // 2) * l_shifts\n",
    "    iter_u = np.linspace(-1 * lim, lim, n_shifts,  dtype = 'int') # number of X points in the grid search, centered\n",
    "    iter_v = np.linspace(-1 * lim, lim, n_shifts, dtype = 'int') # number of Y points in the grid search, centered\n",
    "    iter_w = np.linspace(-1 * lim, lim, n_shifts, dtype = 'int') # number of Z points in the grid search, centered\n",
    "\n",
    "iter_a = np.linspace(0, 360, n_angles, endpoint = False, dtype = 'int')\n",
    "iter_b = np.linspace(0, 360, n_angles, endpoint = False, dtype = 'int')\n",
    "iter_c = np.linspace(0, 360, n_angles, endpoint = False, dtype = 'int')\n",
    "\n",
    "# Need to decouple col, row and angle idx to have a finer search with angles\n",
    "# Also could have a \"rod\" or \"sphere\" case where less rotation are required\n",
    "\n",
    "print(f'Grid search in u: {iter_u}')\n",
    "print(f'Grid search in v: {iter_v}')\n",
    "print(f'Grid search in w: {iter_w}')\n",
    "\n",
    "print(f'Grid search in a: {iter_a}')\n",
    "print(f'Grid search in b: {iter_b}')\n",
    "print(f'Grid search in c: {iter_c}')\n",
    "\n",
    "iter_param = [(u, v, w, a, b, c) \n",
    "              for u in iter_u\n",
    "              for v in iter_v\n",
    "              for w in iter_w \n",
    "              for a in iter_a\n",
    "              for b in iter_b\n",
    "              for c in iter_c]\n",
    "\n",
    "Q_mirror = np.flip(Q, axis = 1)\n",
    "\n",
    "print(f'The global minimum will be searched with {distance} over {len(iter_param)} combinations')\n",
    "print(f'Estimated computation time: {eval_time_grid_search(Q, distance, iter_param)} s')"
   ]
  },
  {
   "cell_type": "code",
   "execution_count": 22,
   "metadata": {},
   "outputs": [
    {
     "name": "stdout",
     "output_type": "stream",
     "text": [
      "Searching the global minimum over 5832 combinations ...\n",
      "global minimum found for parameters: (-1, 0, 0, 0, 0, 180) at D=0.16333113779534209\n",
      "5 lowest parameters:\n",
      " [[ -1   0   0   0   0 180]\n",
      " [ -1   0   0 180 180   0]\n",
      " [  0   0   0   0   0 180]\n",
      " [  0   0   0 180 180   0]\n",
      " [ -1   1   0 180 180   0]]\n"
     ]
    }
   ],
   "source": [
    "''' Function '''\n",
    "print(f'Searching the global minimum over {len(iter_param)} combinations ...')\n",
    "\n",
    "# Multithreaded\n",
    "to_CPU = [(Q, param, distance) for param in enumerate(iter_param)] # here param is [idx, (u, v, w, a, b, c)]\n",
    "\n",
    "with concurrent.futures.ThreadPoolExecutor() as executor:\n",
    "    futures = [executor.submit(to_multiprocessing_3D, var) for var in to_CPU]\n",
    "    H_global = [future.result() for future in concurrent.futures.as_completed(futures)]\n",
    "\n",
    "# Retrieve results H_global [idx | distance]\n",
    "H_global = np.array(H_global)\n",
    "min_param_idx = H_global[np.argmin(H_global[:,1]), 0] # Get the lowest distance\n",
    "min_param = iter_param[int(min_param_idx)]\n",
    "\n",
    "# Rearrange H_global for [idx | u | v | alpha | distance]\n",
    "H_global = H_global[np.argsort(H_global[:,0])] # Sort by idx\n",
    "for i in range(len(iter_param[0])):\n",
    "    H_global = np.insert(H_global, i+1, np.asarray(iter_param)[:,i], axis = 1) # Insert param\n",
    "\n",
    "# Print results\n",
    "print(f'global minimum found for parameters: {min_param} at D={H_global[:,-1].min()}')\n",
    "\n",
    "show_param = 5 # Number of param to print\n",
    "five_min = np.argsort(H_global[:,-1])[:show_param] \n",
    "print(f'{show_param} lowest parameters:\\n {np.array(iter_param)[five_min]}')"
   ]
  },
  {
   "cell_type": "markdown",
   "metadata": {},
   "source": [
    "3. Starting from the best results of the grid search, perform a local search using the BFGS method"
   ]
  },
  {
   "cell_type": "code",
   "execution_count": 34,
   "metadata": {},
   "outputs": [
    {
     "name": "stdout",
     "output_type": "stream",
     "text": [
      "Average change for a translation step of 1 px: 5.173588e-03\n",
      "Average change for a rotation step of 2°: 6.758316e-03\n"
     ]
    }
   ],
   "source": [
    "'''\n",
    "Test to find the best step size depending on the metric used\n",
    "Best step size gives a change of ~1e-3 for SE, ~1.5-2e-2 for IoU\n",
    "It is best to have change_translate ~ change_rotation for convergence\n",
    "Note: cannot have step size < 1 px\n",
    "'''\n",
    "step_rot = 2 # At the moment, need to be kept > 1\n",
    "step_translation = 1 # At the moment, need to be kept > 1 and integers only\n",
    "\n",
    "test_step_size(Q, 'SE', min_param, step_rot, step_translation)"
   ]
  },
  {
   "cell_type": "code",
   "execution_count": 35,
   "metadata": {},
   "outputs": [
    {
     "name": "stdout",
     "output_type": "stream",
     "text": [
      "minimizing the chirality distance from initialization: (-1, 0, 0, 0, 0, 180)\n",
      "minimization completed after 4 iterations\n",
      "Best parameters: [-1.16, -0.15, -0.17, -1.13, -1.07, 177.83] at 0.16\n",
      "  message: CONVERGENCE: REL_REDUCTION_OF_F_<=_FACTR*EPSMCH\n",
      "  success: True\n",
      "   status: 0\n",
      "      fun: 0.15689652260559694\n",
      "        x: [ 1.000e+00  1.000e+00  1.000e+00  1.000e+00  1.000e+00\n",
      "             1.001e+00]\n",
      "      nit: 4\n",
      "      jac: [ 3.479e+02  4.459e+02  3.209e+02  2.162e+02  4.256e+02\n",
      "             7.541e+02]\n",
      "     nfev: 154\n",
      "     njev: 22\n",
      " hess_inv: <6x6 LbfgsInvHessProduct with dtype=float64>\n"
     ]
    }
   ],
   "source": [
    "''' Parameters ''' \n",
    "distance = 'SE' # 'SE', 'IoU' or 'Hausdorff'\n",
    "\n",
    "''' Function '''\n",
    "results = minimize_distance_local_3D(Q, distance, min_param, step_rot, step_translation)\n",
    "best_param = descale_parameters(*results.x, step_rot, step_translation)\n",
    "\n",
    "if distance == 'Hausdorff':\n",
    "    d_max = regionprops(Q)[0].feret_diameter_max\n",
    "    print(f'Hausdorff distance: {results.fun / d_max}')"
   ]
  },
  {
   "cell_type": "code",
   "execution_count": 30,
   "metadata": {},
   "outputs": [
    {
     "data": {
      "image/png": "[encoded data removed]",
      "text/plain": [
       "<Figure size 1000x400 with 3 Axes>"
      ]
     },
     "metadata": {},
     "output_type": "display_data"
    }
   ],
   "source": [
    "''' Display results in 2D'''\n",
    "show_result_BFGS(Q, best_param)"
   ]
  },
  {
   "cell_type": "code",
   "execution_count": 38,
   "metadata": {},
   "outputs": [],
   "source": [
    "''' Display results in 3D'''\n",
    "show_result_BFGS(Q, best_param, V)"
   ]
  },
  {
   "cell_type": "code",
   "execution_count": 80,
   "metadata": {},
   "outputs": [
    {
     "data": {
      "text/plain": [
       "<Image layer 'Q_bad' at 0x260effe7ee0>"
      ]
     },
     "execution_count": 80,
     "metadata": {},
     "output_type": "execute_result"
    },
    {
     "name": "stderr",
     "output_type": "stream",
     "text": [
      "WARNING: Program has unset variables: {'u_threshold'}\n"
     ]
    }
   ],
   "source": [
    "Q_bad = transform_3D(Q, angles = (0,100,25))\n",
    "V.add_image(Q_bad, \n",
    "        colormap = 'Blues', \n",
    "        interpolation = 'nearest', \n",
    "        blending = 'translucent',\n",
    "        rendering = 'iso'\n",
    "        )"
   ]
  },
  {
   "cell_type": "code",
   "execution_count": 81,
   "metadata": {},
   "outputs": [
    {
     "data": {
      "text/plain": [
       "<Image layer 'Q [1]' at 0x260f00d9de0>"
      ]
     },
     "execution_count": 81,
     "metadata": {},
     "output_type": "execute_result"
    },
    {
     "name": "stderr",
     "output_type": "stream",
     "text": [
      "WARNING: Program has unset variables: {'u_threshold'}\n"
     ]
    }
   ],
   "source": [
    "V.add_image(Q, \n",
    "        colormap = 'Oranges', \n",
    "        interpolation = 'nearest', \n",
    "        blending = 'translucent',\n",
    "        rendering = 'iso'\n",
    "        )"
   ]
  },
  {
   "cell_type": "code",
   "execution_count": 83,
   "metadata": {},
   "outputs": [
    {
     "data": {
      "text/plain": [
       "<Image layer 'Q_aligned' at 0x260f00fec20>"
      ]
     },
     "execution_count": 83,
     "metadata": {},
     "output_type": "execute_result"
    },
    {
     "name": "stderr",
     "output_type": "stream",
     "text": [
      "WARNING: Program has unset variables: {'u_threshold'}\n"
     ]
    }
   ],
   "source": [
    "# Find indices of the data points\n",
    "\n",
    "img = Q_bad\n",
    "edges = sobel(img)\n",
    "otsu = threshold_otsu(edges)\n",
    "edges = edges > otsu\n",
    "z, y, x = np.nonzero(edges)\n",
    "\n",
    "# Center at center of mass\n",
    "x_centered = x - x.mean()\n",
    "y_centered = y - y.mean()\n",
    "z_centered = z - z.mean()\n",
    "\n",
    "ZYX = np.vstack((z_centered, y_centered, x_centered)).T\n",
    "\n",
    "# Compute PCA to get axes of inertia\n",
    "pca = decomposition.PCA(n_components = 3)\n",
    "pca.fit(ZYX)\n",
    "rot = pca.components_ # Retrieves the rotation matrix\n",
    "\n",
    "slices, rows, cols = img.shape[0], img.shape[1], img.shape[2] \n",
    "center = np.array((slices, cols, rows)) / 2. - 0.5\n",
    "\n",
    "tform1 = EuclideanTransform(translation = center, dimensionality=3)\n",
    "\n",
    "# Rotation\n",
    "tform2 = EuclideanTransform(rotation = (0, 0, 0), dimensionality=3)\n",
    "tform2.params[:3, :3] = rot.T\n",
    "\n",
    "# Back to original position\n",
    "tform3 = EuclideanTransform(translation = -center, dimensionality=3)\n",
    "\n",
    "# Perform the transforms\n",
    "tform = tform3 + tform2 + tform1\n",
    "Q_aligned = affine_transform(img, tform, order = 0, mode = 'constant')\n",
    "\n",
    "V.add_image(Q_aligned, \n",
    "        colormap = 'RdPu', \n",
    "        interpolation = 'nearest', \n",
    "        blending = 'translucent',\n",
    "        rendering = 'iso'\n",
    "        )"
   ]
  },
  {
   "cell_type": "code",
   "execution_count": 94,
   "metadata": {},
   "outputs": [
    {
     "data": {
      "text/plain": [
       "230"
      ]
     },
     "execution_count": 94,
     "metadata": {},
     "output_type": "execute_result"
    }
   ],
   "source": [
    "t = [230, 50, 20]\n",
    "max(t)"
   ]
  },
  {
   "cell_type": "code",
   "execution_count": 97,
   "metadata": {},
   "outputs": [
    {
     "data": {
      "text/plain": [
       "2.0"
      ]
     },
     "execution_count": 97,
     "metadata": {},
     "output_type": "execute_result"
    }
   ],
   "source": [
    "np.ceil(max(t)/150)"
   ]
  }
 ],
 "metadata": {
  "kernelspec": {
   "display_name": "processing",
   "language": "python",
   "name": "python3"
  },
  "language_info": {
   "codemirror_mode": {
    "name": "ipython",
    "version": 3
   },
   "file_extension": ".py",
   "mimetype": "text/x-python",
   "name": "python",
   "nbconvert_exporter": "python",
   "pygments_lexer": "ipython3",
   "version": "3.10.6"
  }
 },
 "nbformat": 4,
 "nbformat_minor": 2
}
