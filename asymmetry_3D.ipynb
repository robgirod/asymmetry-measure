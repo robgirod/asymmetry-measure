{
 "cells": [
  {
   "cell_type": "code",
   "execution_count": 5,
   "metadata": {},
   "outputs": [
    {
     "name": "stdout",
     "output_type": "stream",
     "text": [
      "The autoreload extension is already loaded. To reload it, use:\n",
      "  %reload_ext autoreload\n"
     ]
    }
   ],
   "source": [
    "import numpy as np\n",
    "import napari\n",
    "from skimage.measure import regionprops\n",
    "import concurrent.futures\n",
    "\n",
    "from src import asymmetry_3D\n",
    "from src import prepare_center_pca\n",
    "from src.asymmetry_3D import *\n",
    "from src.utils import *\n",
    "from src.prepare_center_pca_3D import *\n",
    "\n",
    "%load_ext autoreload\n",
    "%autoreload 2\n",
    "V = napari.Viewer(ndisplay = 3)"
   ]
  },
  {
   "cell_type": "markdown",
   "metadata": {},
   "source": [
    "1. Load data\n",
    "\n",
    "A note on python arrays: they start indexing at 0 i.e., the first element of an array is Array[0], unlike matlab where this would be Array(1)\\\n",
    "Volume images are arrays with 3 axes. In python the axes order is Array[z, y, x], see the schematic below\\\n",
    "\\\n",
    "Important! At the moment, this code assumes that the images have been binarized previously. All background pixels are 0.\n",
    "\n",
    "The computation takes a few minutes for volumes ~ 100 x 150 x 100 voxels, increase this at your own risk!\\\n",
    "*TO DO*\\\n",
    "automate BFGS bounds"
   ]
  },
  {
   "attachments": {
    "image.png": {
     "image/png": "[encoded data removed]"
    }
   },
   "cell_type": "markdown",
   "metadata": {},
   "source": [
    "![image.png](attachment:image.png)"
   ]
  },
  {
   "cell_type": "code",
   "execution_count": 4,
   "metadata": {},
   "outputs": [
    {
     "name": "stderr",
     "output_type": "stream",
     "text": [
      "WARNING: Traceback (most recent call last):\n",
      "  File \"<frozen runpy>\", line 198, in _run_module_as_main\n",
      "  File \"<frozen runpy>\", line 88, in _run_code\n",
      "  File \"c:\\Users\\rgirod\\AppData\\Local\\miniconda3\\envs\\Register\\Lib\\site-packages\\ipykernel_launcher.py\", line 17, in <module>\n",
      "    app.launch_new_instance()\n",
      "  File \"c:\\Users\\rgirod\\AppData\\Local\\miniconda3\\envs\\Register\\Lib\\site-packages\\traitlets\\config\\application.py\", line 1075, in launch_instance\n",
      "    app.start()\n",
      "  File \"c:\\Users\\rgirod\\AppData\\Local\\miniconda3\\envs\\Register\\Lib\\site-packages\\ipykernel\\kernelapp.py\", line 739, in start\n",
      "    self.io_loop.start()\n",
      "  File \"c:\\Users\\rgirod\\AppData\\Local\\miniconda3\\envs\\Register\\Lib\\site-packages\\tornado\\platform\\asyncio.py\", line 195, in start\n",
      "    self.asyncio_loop.run_forever()\n",
      "  File \"c:\\Users\\rgirod\\AppData\\Local\\miniconda3\\envs\\Register\\Lib\\asyncio\\base_events.py\", line 607, in run_forever\n",
      "    self._run_once()\n",
      "  File \"c:\\Users\\rgirod\\AppData\\Local\\miniconda3\\envs\\Register\\Lib\\asyncio\\base_events.py\", line 1922, in _run_once\n",
      "    handle._run()\n",
      "  File \"c:\\Users\\rgirod\\AppData\\Local\\miniconda3\\envs\\Register\\Lib\\asyncio\\events.py\", line 80, in _run\n",
      "    self._context.run(self._callback, *self._args)\n",
      "  File \"c:\\Users\\rgirod\\AppData\\Local\\miniconda3\\envs\\Register\\Lib\\site-packages\\ipykernel\\kernelbase.py\", line 542, in dispatch_queue\n",
      "    await self.process_one()\n",
      "  File \"c:\\Users\\rgirod\\AppData\\Local\\miniconda3\\envs\\Register\\Lib\\site-packages\\ipykernel\\kernelbase.py\", line 531, in process_one\n",
      "    await dispatch(*args)\n",
      "  File \"c:\\Users\\rgirod\\AppData\\Local\\miniconda3\\envs\\Register\\Lib\\site-packages\\ipykernel\\kernelbase.py\", line 437, in dispatch_shell\n",
      "    await result\n",
      "  File \"c:\\Users\\rgirod\\AppData\\Local\\miniconda3\\envs\\Register\\Lib\\site-packages\\ipykernel\\ipkernel.py\", line 359, in execute_request\n",
      "    await super().execute_request(stream, ident, parent)\n",
      "  File \"c:\\Users\\rgirod\\AppData\\Local\\miniconda3\\envs\\Register\\Lib\\site-packages\\ipykernel\\kernelbase.py\", line 775, in execute_request\n",
      "    reply_content = await reply_content\n",
      "  File \"c:\\Users\\rgirod\\AppData\\Local\\miniconda3\\envs\\Register\\Lib\\site-packages\\ipykernel\\ipkernel.py\", line 446, in do_execute\n",
      "    res = shell.run_cell(\n",
      "  File \"c:\\Users\\rgirod\\AppData\\Local\\miniconda3\\envs\\Register\\Lib\\site-packages\\ipykernel\\zmqshell.py\", line 549, in run_cell\n",
      "    return super().run_cell(*args, **kwargs)\n",
      "  File \"c:\\Users\\rgirod\\AppData\\Local\\miniconda3\\envs\\Register\\Lib\\site-packages\\IPython\\core\\interactiveshell.py\", line 3051, in run_cell\n",
      "    result = self._run_cell(\n",
      "  File \"c:\\Users\\rgirod\\AppData\\Local\\miniconda3\\envs\\Register\\Lib\\site-packages\\IPython\\core\\interactiveshell.py\", line 3106, in _run_cell\n",
      "    result = runner(coro)\n",
      "  File \"c:\\Users\\rgirod\\AppData\\Local\\miniconda3\\envs\\Register\\Lib\\site-packages\\IPython\\core\\async_helpers.py\", line 129, in _pseudo_sync_runner\n",
      "    coro.send(None)\n",
      "  File \"c:\\Users\\rgirod\\AppData\\Local\\miniconda3\\envs\\Register\\Lib\\site-packages\\IPython\\core\\interactiveshell.py\", line 3311, in run_cell_async\n",
      "    has_raised = await self.run_ast_nodes(code_ast.body, cell_name,\n",
      "  File \"c:\\Users\\rgirod\\AppData\\Local\\miniconda3\\envs\\Register\\Lib\\site-packages\\IPython\\core\\interactiveshell.py\", line 3493, in run_ast_nodes\n",
      "    if await self.run_code(code, result, async_=asy):\n",
      "  File \"c:\\Users\\rgirod\\AppData\\Local\\miniconda3\\envs\\Register\\Lib\\site-packages\\IPython\\core\\interactiveshell.py\", line 3553, in run_code\n",
      "    exec(code_obj, self.user_global_ns, self.user_ns)\n",
      "  File \"C:\\Users\\rgirod\\AppData\\Local\\Temp\\ipykernel_24948\\1296525951.py\", line 1, in <module>\n",
      "    V.add_image(Q)\n",
      "  File \"c:\\Users\\rgirod\\AppData\\Local\\miniconda3\\envs\\Register\\Lib\\site-packages\\napari\\utils\\migrations.py\", line 59, in _update_from_dict\n",
      "    return func(*args, **kwargs)\n",
      "  File \"c:\\Users\\rgirod\\AppData\\Local\\miniconda3\\envs\\Register\\Lib\\site-packages\\napari\\components\\viewer_model.py\", line 898, in add_image\n",
      "    self.layers.append(layer)\n",
      "  File \"<frozen _collections_abc>\", line 1078, in append\n",
      "  File \"c:\\Users\\rgirod\\AppData\\Local\\miniconda3\\envs\\Register\\Lib\\site-packages\\napari\\components\\layerlist.py\", line 167, in insert\n",
      "    super().insert(index, new_layer)\n",
      "  File \"c:\\Users\\rgirod\\AppData\\Local\\miniconda3\\envs\\Register\\Lib\\site-packages\\napari\\utils\\events\\containers\\_selectable_list.py\", line 66, in insert\n",
      "    super().insert(index, value)\n",
      "  File \"c:\\Users\\rgirod\\AppData\\Local\\miniconda3\\envs\\Register\\Lib\\site-packages\\napari\\utils\\events\\containers\\_evented_list.py\", line 195, in insert\n",
      "    self.events.inserted(index=index, value=value)\n",
      "  File \"c:\\Users\\rgirod\\AppData\\Local\\miniconda3\\envs\\Register\\Lib\\site-packages\\napari\\utils\\events\\event.py\", line 768, in __call__\n",
      "    self._invoke_callback(cb, event if pass_event else None)\n",
      "  File \"c:\\Users\\rgirod\\AppData\\Local\\miniconda3\\envs\\Register\\Lib\\site-packages\\napari\\utils\\events\\event.py\", line 793, in _invoke_callback\n",
      "    cb(event)\n",
      "  File \"c:\\Users\\rgirod\\AppData\\Local\\miniconda3\\envs\\Register\\Lib\\site-packages\\napari\\_qt\\qt_viewer.py\", line 643, in _on_add_layer_change\n",
      "    self._add_layer(layer)\n",
      "  File \"c:\\Users\\rgirod\\AppData\\Local\\miniconda3\\envs\\Register\\Lib\\site-packages\\napari\\_qt\\qt_viewer.py\", line 667, in _add_layer\n",
      "    vispy_layer.node.parent = self.view.scene\n",
      "  File \"c:\\Users\\rgirod\\AppData\\Local\\miniconda3\\envs\\Register\\Lib\\site-packages\\vispy\\util\\frozen.py\", line 17, in __setattr__\n",
      "    object.__setattr__(self, key, value)\n",
      "  File \"c:\\Users\\rgirod\\AppData\\Local\\miniconda3\\envs\\Register\\Lib\\site-packages\\vispy\\scene\\node.py\", line 198, in parent\n",
      "    self._set_canvas(parent.canvas)\n",
      "  File \"c:\\Users\\rgirod\\AppData\\Local\\miniconda3\\envs\\Register\\Lib\\site-packages\\vispy\\scene\\node.py\", line 315, in _set_canvas\n",
      "    self.transforms.canvas_transform = tr.canvas_transform\n",
      "  File \"c:\\Users\\rgirod\\AppData\\Local\\miniconda3\\envs\\Register\\Lib\\site-packages\\vispy\\visuals\\transforms\\transform_system.py\", line 301, in canvas_transform\n",
      "    self._canvas_transform.transforms = tr\n",
      "  File \"c:\\Users\\rgirod\\AppData\\Local\\miniconda3\\envs\\Register\\Lib\\site-packages\\vispy\\visuals\\transforms\\chain.py\", line 96, in transforms\n",
      "    self.update()\n",
      "  File \"c:\\Users\\rgirod\\AppData\\Local\\miniconda3\\envs\\Register\\Lib\\site-packages\\vispy\\visuals\\transforms\\base_transform.py\", line 148, in update\n",
      "    self.changed(*args)\n",
      "  File \"c:\\Users\\rgirod\\AppData\\Local\\miniconda3\\envs\\Register\\Lib\\site-packages\\vispy\\util\\event.py\", line 453, in __call__\n",
      "    self._invoke_callback(cb, event)\n",
      "  File \"c:\\Users\\rgirod\\AppData\\Local\\miniconda3\\envs\\Register\\Lib\\site-packages\\vispy\\util\\event.py\", line 469, in _invoke_callback\n",
      "    cb(event)\n",
      "  File \"c:\\Users\\rgirod\\AppData\\Local\\miniconda3\\envs\\Register\\Lib\\site-packages\\vispy\\util\\event.py\", line 453, in __call__\n",
      "    self._invoke_callback(cb, event)\n",
      "  File \"c:\\Users\\rgirod\\AppData\\Local\\miniconda3\\envs\\Register\\Lib\\site-packages\\vispy\\util\\event.py\", line 471, in _invoke_callback\n",
      "    _handle_exception(self.ignore_callback_errors,\n",
      "  << caught exception here: >>\n",
      "  File \"c:\\Users\\rgirod\\AppData\\Local\\miniconda3\\envs\\Register\\Lib\\site-packages\\vispy\\util\\event.py\", line 469, in _invoke_callback\n",
      "    cb(event)\n",
      "  File \"c:\\Users\\rgirod\\AppData\\Local\\miniconda3\\envs\\Register\\Lib\\site-packages\\vispy\\visuals\\visual.py\", line 267, in _transform_changed\n",
      "    self.update()\n",
      "  File \"c:\\Users\\rgirod\\AppData\\Local\\miniconda3\\envs\\Register\\Lib\\site-packages\\vispy\\scene\\node.py\", line 332, in update\n",
      "    c.update(node=self)\n",
      "  File \"c:\\Users\\rgirod\\AppData\\Local\\miniconda3\\envs\\Register\\Lib\\site-packages\\vispy\\scene\\canvas.py\", line 201, in update\n",
      "    super(SceneCanvas, self).update()\n",
      "  File \"c:\\Users\\rgirod\\AppData\\Local\\miniconda3\\envs\\Register\\Lib\\site-packages\\vispy\\app\\canvas.py\", line 448, in update\n",
      "    self._backend._vispy_update()\n",
      "  File \"c:\\Users\\rgirod\\AppData\\Local\\miniconda3\\envs\\Register\\Lib\\site-packages\\vispy\\app\\backends\\_qt.py\", line 486, in _vispy_update\n",
      "    self.update()\n",
      "RuntimeError: wrapped C/C++ object of type CanvasBackendDesktop has been deleted\n",
      "ERROR: Invoking <bound method BaseVisual._transform_changed of <Image at 0x1f1b9455c10>> for Event\n"
     ]
    },
    {
     "data": {
      "text/plain": [
       "<Image layer 'Q [1]' at 0x1f1c5e15cd0>"
      ]
     },
     "execution_count": 4,
     "metadata": {},
     "output_type": "execute_result"
    }
   ],
   "source": [
    "V.add_image(Q)"
   ]
  },
  {
   "cell_type": "code",
   "execution_count": 2,
   "metadata": {},
   "outputs": [
    {
     "name": "stderr",
     "output_type": "stream",
     "text": [
      "c:\\Users\\rgirod\\AppData\\Local\\miniconda3\\envs\\Register\\Lib\\site-packages\\mrcfile\\mrcinterpreter.py:206: RuntimeWarning: Map ID string not found - not an MRC file, or file is corrupt\n",
      "  warnings.warn(msg, RuntimeWarning)\n",
      "c:\\Users\\rgirod\\AppData\\Local\\miniconda3\\envs\\Register\\Lib\\site-packages\\mrcfile\\mrcinterpreter.py:216: RuntimeWarning: Unrecognised machine stamp: 0x00 0x00 0x00 0x00\n",
      "  warnings.warn(str(err), RuntimeWarning)\n"
     ]
    },
    {
     "name": "stdout",
     "output_type": "stream",
     "text": [
      "volume size: (301, 123, 123)\n",
      "number of voxels: 4553829\n",
      "number of surface voxels: 201557\n"
     ]
    }
   ],
   "source": [
    "filename = r\"D:\\Data\\2024_03_BipyKin2\\Grid2E6_AgBipy_30m\\Grid2E6_AgBipy_30m_P1_em25_alignAndFilter.rec\" # Data must be binarized but not necessarily aligned\n",
    "Q = read_data(filename) # Can read .tif(f), .mrc, .rec\n",
    "\n",
    "print(f'volume size: {Q.shape}')\n",
    "print(f'number of voxels: {Q.shape[0]*Q.shape[1]*Q.shape[2]}')\n",
    "print(f'number of surface voxels: {np.count_nonzero(get_edges(Q))}')"
   ]
  },
  {
   "cell_type": "markdown",
   "metadata": {},
   "source": [
    "Run the cell below if the data have not been aligned to center and major axis vertical yet. This calculation requires the long axis of the image to be in position 0"
   ]
  },
  {
   "cell_type": "code",
   "execution_count": null,
   "metadata": {},
   "outputs": [],
   "source": [
    "Q = translate_center_of_mass(Q)\n",
    "Q = rotate_pca(Q)"
   ]
  },
  {
   "cell_type": "markdown",
   "metadata": {},
   "source": [
    "2. Perform an initial grid search. Watch out! Computation cost scales with ${N_{parameters}}^6$ and ~ ${N_{voxels}}^1$"
   ]
  },
  {
   "cell_type": "code",
   "execution_count": 29,
   "metadata": {},
   "outputs": [
    {
     "name": "stdout",
     "output_type": "stream",
     "text": [
      "Grid search in u: [-1  0  1]\n",
      "Grid search in v: [-1  0  1]\n",
      "Grid search in w: [-1  0  1]\n",
      "Grid search in a: [  0  12  24  36  48  60  72  84  96 108 120 132 144 156 168 180 192 204\n",
      " 216 228 240 252 264 276 288 300 312 324 336 348]\n",
      "Grid search in b: [-10  -9  -8  -6  -5  -3  -2   0   1   2   4   5   7   8  10 170 171 172\n",
      " 174 175 177 178 180 181 182 184 185 187 188 190]\n",
      "Grid search in c: [0]\n",
      "The global minimum will be searched with SE over 24300 combinations\n",
      "Estimated computation time: 46 s\n"
     ]
    }
   ],
   "source": [
    "''' Parameters ''' \n",
    "n_shifts = 3 # for now, must be odd to include 0\n",
    "l_shifts = 1 # in pixels\n",
    "n_angles = 30 # 60 angles is quite good already, must be even for rod_like\n",
    "\n",
    "distance = 'SE' # 'IoU', 'SE' or 'Hausdorff'\n",
    "rod_like = True # if True, will limit rotations to the major and 1 minor axes, with [-10°+10°] at +/- 180° for the minor\n",
    "\n",
    "''' Function '''\n",
    "if n_shifts == 0:\n",
    "    iter_u = [0]\n",
    "    iter_v = [0]\n",
    "    iter_w = [0]\n",
    "else:\n",
    "    lim = (n_shifts // 2) * l_shifts\n",
    "    iter_u = np.linspace(-1 * lim, lim, n_shifts,  dtype = 'int') # number of X points in the grid search, centered\n",
    "    iter_v = np.linspace(-1 * lim, lim, n_shifts, dtype = 'int') # number of Y points in the grid search, centered\n",
    "    iter_w = np.linspace(-1 * lim, lim, n_shifts, dtype = 'int') # number of Z points in the grid search, centered\n",
    "\n",
    "if rod_like:\n",
    "    iter_a = np.linspace(0, 360, n_angles, endpoint = False, dtype = 'int') # rotations about Z axis\n",
    "    n_angles_minor_ud = n_angles // 2\n",
    "    if not n_angles_minor_ud % 2:\n",
    "        n_angles_minor_ud -= 1\n",
    "    iter_b = np.concatenate([ \n",
    "        np.linspace(-10, 10, n_angles_minor_ud, endpoint = True, dtype = 'int'),\n",
    "        np.linspace(170, 190, n_angles_minor_ud, endpoint = True, dtype = 'int')\n",
    "    ]) # rotations about Y axis\n",
    "    iter_c = [0] # rotations about X axis\n",
    "\n",
    "else:\n",
    "    iter_a = np.linspace(0, 360, n_angles, endpoint = False, dtype = 'int') # rotations about Z axis\n",
    "    iter_b = np.linspace(0, 360, n_angles, endpoint = False, dtype = 'int') # rotations about Y axis\n",
    "    iter_c = np.linspace(0, 360, n_angles, endpoint = False, dtype = 'int') # rotations about X axis\n",
    "\n",
    "\n",
    "# Need to decouple col, row and angle idx to have a finer search with angles\n",
    "# Also could have a \"rod\" or \"sphere\" case where less rotation are required\n",
    "\n",
    "print(f'Grid search in u: {iter_u}')\n",
    "print(f'Grid search in v: {iter_v}')\n",
    "print(f'Grid search in w: {iter_w}')\n",
    "\n",
    "print(f'Grid search in a: {iter_a}')\n",
    "print(f'Grid search in b: {iter_b}')\n",
    "print(f'Grid search in c: {iter_c}')\n",
    "\n",
    "iter_param = [(u, v, w, a, b, c) \n",
    "              for u in iter_u\n",
    "              for v in iter_v\n",
    "              for w in iter_w \n",
    "              for a in iter_a\n",
    "              for b in iter_b\n",
    "              for c in iter_c]\n",
    "\n",
    "Q_mirror = np.flip(Q, axis = 1)\n",
    "\n",
    "print(f'The global minimum will be searched with {distance} over {len(iter_param)} combinations')\n",
    "print(f'Estimated computation time: {eval_time_grid_search(Q, distance, iter_param)} s')"
   ]
  },
  {
   "cell_type": "code",
   "execution_count": 30,
   "metadata": {},
   "outputs": [
    {
     "name": "stdout",
     "output_type": "stream",
     "text": [
      "Searching the global minimum over 24300 combinations ...\n",
      "global minimum found for parameters: (-1, 0, 0, 0, 5, 0) at D=0.2671693836631506\n",
      "5 lowest parameters:\n",
      " [[-1  0  0  0  5  0]\n",
      " [-1  0  0  0  7  0]\n",
      " [-1  0  0  0  4  0]\n",
      " [-1  0  0  0  8  0]\n",
      " [-1  0  0  0  2  0]]\n"
     ]
    }
   ],
   "source": [
    "''' Function '''\n",
    "print(f'Searching the global minimum over {len(iter_param)} combinations ...')\n",
    "\n",
    "# Multithreaded\n",
    "to_CPU = [(Q, param, distance) for param in enumerate(iter_param)] # here param is [idx, (u, v, w, a, b, c)]\n",
    "\n",
    "with concurrent.futures.ThreadPoolExecutor() as executor:\n",
    "    futures = [executor.submit(to_multiprocessing_3D, var) for var in to_CPU]\n",
    "    H_global = [future.result() for future in concurrent.futures.as_completed(futures)]\n",
    "\n",
    "# Retrieve results H_global [idx | distance]\n",
    "H_global = np.array(H_global)\n",
    "min_param_idx = H_global[np.argmin(H_global[:,1]), 0] # Get the lowest distance\n",
    "min_param = iter_param[int(min_param_idx)]\n",
    "\n",
    "# Rearrange H_global for [idx | u | v | alpha | distance]\n",
    "H_global = H_global[np.argsort(H_global[:,0])] # Sort by idx\n",
    "for i in range(len(iter_param[0])):\n",
    "    H_global = np.insert(H_global, i+1, np.asarray(iter_param)[:,i], axis = 1) # Insert param\n",
    "\n",
    "# Print results\n",
    "print(f'global minimum found for parameters: {min_param} at D={H_global[:,-1].min()}')\n",
    "\n",
    "show_param = 5 # Number of param to print\n",
    "five_min = np.argsort(H_global[:,-1])[:show_param] \n",
    "print(f'{show_param} lowest parameters:\\n {np.array(iter_param)[five_min]}')"
   ]
  },
  {
   "cell_type": "markdown",
   "metadata": {},
   "source": [
    "3. Starting from the best results of the grid search, perform a local search using the BFGS method"
   ]
  },
  {
   "cell_type": "code",
   "execution_count": 48,
   "metadata": {},
   "outputs": [
    {
     "name": "stdout",
     "output_type": "stream",
     "text": [
      "Average change for a translation step of 3 px: 3.008166e-02\n",
      "Average change for a rotation step of 3°: 3.757301e-03\n"
     ]
    }
   ],
   "source": [
    "'''\n",
    "Test to find the best step size depending on the metric used\n",
    "Best step size gives a change of ~1e-3 for SE, ~1.5-2e-2 for IoU\n",
    "It is best to have change_translate ~ change_rotation for convergence\n",
    "Note: cannot have step size < 1 px\n",
    "'''\n",
    "step_rot = 3 # At the moment, need to be kept > 1\n",
    "step_translation = 3 # At the moment, need to be kept > 1 and integers only\n",
    "\n",
    "test_step_size(Q, 'SE', min_param, step_rot, step_translation)"
   ]
  },
  {
   "cell_type": "code",
   "execution_count": 49,
   "metadata": {},
   "outputs": [
    {
     "name": "stdout",
     "output_type": "stream",
     "text": [
      "minimizing the chirality distance from initialization: (-1, 0, 0, 0, 5, 0)\n",
      "minimization completed after 1 iterations\n",
      "Best parameters: [-1.0, -0.0, -0.0, -0.05, 4.94, -0.05] at 0.27\n",
      "  message: CONVERGENCE: REL_REDUCTION_OF_F_<=_FACTR*EPSMCH\n",
      "  success: True\n",
      "   status: 0\n",
      "      fun: 0.2670734896696016\n",
      "        x: [ 1.000e+00  1.000e+00  1.000e+00  1.000e+00  1.000e+00\n",
      "             1.000e+00]\n",
      "      nit: 1\n",
      "      jac: [ 2.594e+03  3.702e+03  2.744e+03  1.892e+02  1.953e+02\n",
      "             7.148e+02]\n",
      "     nfev: 77\n",
      "     njev: 11\n",
      " hess_inv: <6x6 LbfgsInvHessProduct with dtype=float64>\n"
     ]
    }
   ],
   "source": [
    "''' Parameters ''' \n",
    "distance = 'SE' # 'SE', 'IoU' or 'Hausdorff'\n",
    "\n",
    "''' Function '''\n",
    "results = minimize_distance_local_3D(Q, distance, min_param, step_rot, step_translation)\n",
    "best_param = descale_parameters(*results.x, step_rot, step_translation)\n",
    "\n",
    "if distance == 'Hausdorff':\n",
    "    d_max = regionprops(Q)[0].feret_diameter_max\n",
    "    print(f'Hausdorff distance: {results.fun / d_max}')"
   ]
  },
  {
   "cell_type": "code",
   "execution_count": 50,
   "metadata": {},
   "outputs": [
    {
     "data": {
      "image/png": "[encoded data removed]",
      "text/plain": [
       "<Figure size 1000x400 with 3 Axes>"
      ]
     },
     "metadata": {},
     "output_type": "display_data"
    }
   ],
   "source": [
    "''' Display results in 2D'''\n",
    "show_result_BFGS(Q, best_param)"
   ]
  },
  {
   "cell_type": "code",
   "execution_count": 10,
   "metadata": {},
   "outputs": [],
   "source": [
    "V = napari.Viewer(ndisplay = 3)"
   ]
  },
  {
   "cell_type": "code",
   "execution_count": 51,
   "metadata": {},
   "outputs": [],
   "source": [
    "''' Display results in 3D'''\n",
    "show_result_BFGS(Q, min_param, V)"
   ]
  }
 ],
 "metadata": {
  "kernelspec": {
   "display_name": "processing",
   "language": "python",
   "name": "python3"
  },
  "language_info": {
   "codemirror_mode": {
    "name": "ipython",
    "version": 3
   },
   "file_extension": ".py",
   "mimetype": "text/x-python",
   "name": "python",
   "nbconvert_exporter": "python",
   "pygments_lexer": "ipython3",
   "version": "3.11.7"
  }
 },
 "nbformat": 4,
 "nbformat_minor": 2
}
